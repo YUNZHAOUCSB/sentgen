{
 "cells": [
  {
   "cell_type": "code",
   "execution_count": 1,
   "metadata": {
    "collapsed": true
   },
   "outputs": [],
   "source": [
    "import tensorflow as tf\n",
    "import os\n",
    "os.environ['CUDA_VISIBLE_DEVICES']='2'\n",
    "import random\n",
    "import time\n",
    "import datetime\n",
    "from dataloader import DataManager\n",
    "import numpy as np\n",
    "import pandas as pd"
   ]
  },
  {
   "cell_type": "code",
   "execution_count": 2,
   "metadata": {},
   "outputs": [
    {
     "name": "stdout",
     "output_type": "stream",
     "text": [
      "RelationTotal: 53\n",
      "WordTotal:  114043\n",
      "Word dimension:  50\n"
     ]
    }
   ],
   "source": [
    "data_dir = '/home/rohanjain/data/sentgen/'\n",
    "conf = {}\n",
    "conf['word2vec_file'] = os.path.join(data_dir, 'vec.txt')\n",
    "conf['relation2id_file'] = os.path.join(data_dir, 'RE/relation2id.txt')\n",
    "conf['entity2id_file'] = os.path.join(data_dir, 'RE/entity2id.txt')\n",
    "conf['sequence_length'] = 100\n",
    "conf['vocab2id_file'] = './vocab2id.txt'\n",
    "conf['training_file'] = os.path.join(data_dir, 'RE/train.txt')\n",
    "datamanager = DataManager(conf)"
   ]
  },
  {
   "cell_type": "code",
   "execution_count": 3,
   "metadata": {},
   "outputs": [
    {
     "name": "stdout",
     "output_type": "stream",
     "text": [
      "Start loading training data for Generator.\n",
      "====================\n"
     ]
    }
   ],
   "source": [
    "training_data = datamanager.load_training_data_for_Gen()"
   ]
  },
  {
   "cell_type": "code",
   "execution_count": 13,
   "metadata": {
    "collapsed": true
   },
   "outputs": [],
   "source": [
    "# seq_len=[]\n",
    "# ent1p = []\n",
    "# ent2p = []\n",
    "# for data in training_data:\n",
    "seq_len = [len(data.words_idx) for data in training_data]\n",
    "ent1p = [data.entity1p for data in training_data]\n",
    "ent2p = [data.entity2p for data in training_data]\n"
   ]
  },
  {
   "cell_type": "code",
   "execution_count": 15,
   "metadata": {},
   "outputs": [
    {
     "data": {
      "text/plain": [
       "<bound method NDFrame.head of          0   1   2\n",
       "0       41  25  23\n",
       "1       27  19  17\n",
       "2       44  15  13\n",
       "3       39  37  11\n",
       "4       40  16  14\n",
       "5       51  11   9\n",
       "6       26  14  12\n",
       "7       20   7   5\n",
       "8       17  15  13\n",
       "9       14  12  10\n",
       "10      47  12  32\n",
       "11      43  18  10\n",
       "12      39   3  31\n",
       "13      43  18  10\n",
       "14      39   3  31\n",
       "15      27  15  23\n",
       "16      34   5   0\n",
       "17      18  16  14\n",
       "18      28  23  21\n",
       "19      43  10   8\n",
       "20       6   4   2\n",
       "21      47  29  40\n",
       "22      47  29  40\n",
       "23      50   6   8\n",
       "24      27   8  10\n",
       "25      41  15  39\n",
       "26      61  27  35\n",
       "27      24  10   8\n",
       "28      46   5  14\n",
       "29      44  40  42\n",
       "...     ..  ..  ..\n",
       "570058  42  27  29\n",
       "570059  39   0   2\n",
       "570060  38   8  10\n",
       "570061  14   0   6\n",
       "570062  43  12  16\n",
       "570063  66  24  54\n",
       "570064  69  20  36\n",
       "570065  37  23  21\n",
       "570066  39  15  17\n",
       "570067  72  37  59\n",
       "570068  52  21   0\n",
       "570069  32  13  28\n",
       "570070  29   9  14\n",
       "570071  17   4  13\n",
       "570072  22  19   8\n",
       "570073  27   3   5\n",
       "570074  16   8  12\n",
       "570075  34  26  24\n",
       "570076  50  44   5\n",
       "570077  40  10  23\n",
       "570078  57  46  24\n",
       "570079  53  17  24\n",
       "570080  44  40  34\n",
       "570081  47  14  40\n",
       "570082  36  24   7\n",
       "570083  31   6  24\n",
       "570084  49  13  24\n",
       "570085  28   0  26\n",
       "570086  31   3  15\n",
       "570087  16   6   3\n",
       "\n",
       "[570088 rows x 3 columns]>"
      ]
     },
     "execution_count": 15,
     "metadata": {},
     "output_type": "execute_result"
    }
   ],
   "source": [
    "seq_data = pd.DataFrame([seq_len, ent1p, ent2p]).T\n",
    "seq_data.head()    "
   ]
  },
  {
   "cell_type": "code",
   "execution_count": 17,
   "metadata": {},
   "outputs": [
    {
     "data": {
      "text/html": [
       "<div>\n",
       "<style>\n",
       "    .dataframe thead tr:only-child th {\n",
       "        text-align: right;\n",
       "    }\n",
       "\n",
       "    .dataframe thead th {\n",
       "        text-align: left;\n",
       "    }\n",
       "\n",
       "    .dataframe tbody tr th {\n",
       "        vertical-align: top;\n",
       "    }\n",
       "</style>\n",
       "<table border=\"1\" class=\"dataframe\">\n",
       "  <thead>\n",
       "    <tr style=\"text-align: right;\">\n",
       "      <th></th>\n",
       "      <th>sentence_length</th>\n",
       "      <th>entity1_pos</th>\n",
       "      <th>entity2_pos</th>\n",
       "    </tr>\n",
       "  </thead>\n",
       "  <tbody>\n",
       "    <tr>\n",
       "      <th>0</th>\n",
       "      <td>41</td>\n",
       "      <td>25</td>\n",
       "      <td>23</td>\n",
       "    </tr>\n",
       "    <tr>\n",
       "      <th>1</th>\n",
       "      <td>27</td>\n",
       "      <td>19</td>\n",
       "      <td>17</td>\n",
       "    </tr>\n",
       "    <tr>\n",
       "      <th>2</th>\n",
       "      <td>44</td>\n",
       "      <td>15</td>\n",
       "      <td>13</td>\n",
       "    </tr>\n",
       "    <tr>\n",
       "      <th>3</th>\n",
       "      <td>39</td>\n",
       "      <td>37</td>\n",
       "      <td>11</td>\n",
       "    </tr>\n",
       "    <tr>\n",
       "      <th>4</th>\n",
       "      <td>40</td>\n",
       "      <td>16</td>\n",
       "      <td>14</td>\n",
       "    </tr>\n",
       "  </tbody>\n",
       "</table>\n",
       "</div>"
      ],
      "text/plain": [
       "   sentence_length  entity1_pos  entity2_pos\n",
       "0               41           25           23\n",
       "1               27           19           17\n",
       "2               44           15           13\n",
       "3               39           37           11\n",
       "4               40           16           14"
      ]
     },
     "execution_count": 17,
     "metadata": {},
     "output_type": "execute_result"
    }
   ],
   "source": [
    "seq_data.columns=['sentence_length', 'entity1_pos', 'entity2_pos']\n",
    "seq_data.head() "
   ]
  },
  {
   "cell_type": "code",
   "execution_count": 19,
   "metadata": {},
   "outputs": [
    {
     "data": {
      "text/html": [
       "<div>\n",
       "<style>\n",
       "    .dataframe thead tr:only-child th {\n",
       "        text-align: right;\n",
       "    }\n",
       "\n",
       "    .dataframe thead th {\n",
       "        text-align: left;\n",
       "    }\n",
       "\n",
       "    .dataframe tbody tr th {\n",
       "        vertical-align: top;\n",
       "    }\n",
       "</style>\n",
       "<table border=\"1\" class=\"dataframe\">\n",
       "  <thead>\n",
       "    <tr style=\"text-align: right;\">\n",
       "      <th></th>\n",
       "      <th>sentence_length</th>\n",
       "      <th>entity1_pos</th>\n",
       "      <th>entity2_pos</th>\n",
       "    </tr>\n",
       "  </thead>\n",
       "  <tbody>\n",
       "    <tr>\n",
       "      <th>374</th>\n",
       "      <td>134</td>\n",
       "      <td>118</td>\n",
       "      <td>107</td>\n",
       "    </tr>\n",
       "    <tr>\n",
       "      <th>1141</th>\n",
       "      <td>106</td>\n",
       "      <td>102</td>\n",
       "      <td>83</td>\n",
       "    </tr>\n",
       "    <tr>\n",
       "      <th>1142</th>\n",
       "      <td>106</td>\n",
       "      <td>102</td>\n",
       "      <td>83</td>\n",
       "    </tr>\n",
       "    <tr>\n",
       "      <th>1837</th>\n",
       "      <td>154</td>\n",
       "      <td>91</td>\n",
       "      <td>109</td>\n",
       "    </tr>\n",
       "    <tr>\n",
       "      <th>1838</th>\n",
       "      <td>154</td>\n",
       "      <td>91</td>\n",
       "      <td>109</td>\n",
       "    </tr>\n",
       "  </tbody>\n",
       "</table>\n",
       "</div>"
      ],
      "text/plain": [
       "      sentence_length  entity1_pos  entity2_pos\n",
       "374               134          118          107\n",
       "1141              106          102           83\n",
       "1142              106          102           83\n",
       "1837              154           91          109\n",
       "1838              154           91          109"
      ]
     },
     "execution_count": 19,
     "metadata": {},
     "output_type": "execute_result"
    }
   ],
   "source": [
    "seq_data.loc[seq_data.sentence_length>100].head()"
   ]
  },
  {
   "cell_type": "code",
   "execution_count": 21,
   "metadata": {},
   "outputs": [
    {
     "data": {
      "text/html": [
       "<div>\n",
       "<style>\n",
       "    .dataframe thead tr:only-child th {\n",
       "        text-align: right;\n",
       "    }\n",
       "\n",
       "    .dataframe thead th {\n",
       "        text-align: left;\n",
       "    }\n",
       "\n",
       "    .dataframe tbody tr th {\n",
       "        vertical-align: top;\n",
       "    }\n",
       "</style>\n",
       "<table border=\"1\" class=\"dataframe\">\n",
       "  <thead>\n",
       "    <tr style=\"text-align: right;\">\n",
       "      <th></th>\n",
       "      <th>sentence_length</th>\n",
       "      <th>entity1_pos</th>\n",
       "      <th>entity2_pos</th>\n",
       "    </tr>\n",
       "  </thead>\n",
       "  <tbody>\n",
       "    <tr>\n",
       "      <th>374</th>\n",
       "      <td>134</td>\n",
       "      <td>118</td>\n",
       "      <td>107</td>\n",
       "    </tr>\n",
       "    <tr>\n",
       "      <th>1141</th>\n",
       "      <td>106</td>\n",
       "      <td>102</td>\n",
       "      <td>83</td>\n",
       "    </tr>\n",
       "    <tr>\n",
       "      <th>1142</th>\n",
       "      <td>106</td>\n",
       "      <td>102</td>\n",
       "      <td>83</td>\n",
       "    </tr>\n",
       "    <tr>\n",
       "      <th>1837</th>\n",
       "      <td>154</td>\n",
       "      <td>91</td>\n",
       "      <td>109</td>\n",
       "    </tr>\n",
       "    <tr>\n",
       "      <th>1838</th>\n",
       "      <td>154</td>\n",
       "      <td>91</td>\n",
       "      <td>109</td>\n",
       "    </tr>\n",
       "    <tr>\n",
       "      <th>2621</th>\n",
       "      <td>104</td>\n",
       "      <td>52</td>\n",
       "      <td>102</td>\n",
       "    </tr>\n",
       "    <tr>\n",
       "      <th>2669</th>\n",
       "      <td>104</td>\n",
       "      <td>52</td>\n",
       "      <td>102</td>\n",
       "    </tr>\n",
       "    <tr>\n",
       "      <th>2761</th>\n",
       "      <td>159</td>\n",
       "      <td>156</td>\n",
       "      <td>117</td>\n",
       "    </tr>\n",
       "    <tr>\n",
       "      <th>2981</th>\n",
       "      <td>159</td>\n",
       "      <td>156</td>\n",
       "      <td>117</td>\n",
       "    </tr>\n",
       "    <tr>\n",
       "      <th>3872</th>\n",
       "      <td>104</td>\n",
       "      <td>52</td>\n",
       "      <td>102</td>\n",
       "    </tr>\n",
       "    <tr>\n",
       "      <th>3920</th>\n",
       "      <td>104</td>\n",
       "      <td>52</td>\n",
       "      <td>102</td>\n",
       "    </tr>\n",
       "    <tr>\n",
       "      <th>4012</th>\n",
       "      <td>159</td>\n",
       "      <td>156</td>\n",
       "      <td>117</td>\n",
       "    </tr>\n",
       "    <tr>\n",
       "      <th>4232</th>\n",
       "      <td>159</td>\n",
       "      <td>156</td>\n",
       "      <td>117</td>\n",
       "    </tr>\n",
       "    <tr>\n",
       "      <th>8552</th>\n",
       "      <td>139</td>\n",
       "      <td>15</td>\n",
       "      <td>128</td>\n",
       "    </tr>\n",
       "    <tr>\n",
       "      <th>10605</th>\n",
       "      <td>135</td>\n",
       "      <td>131</td>\n",
       "      <td>128</td>\n",
       "    </tr>\n",
       "    <tr>\n",
       "      <th>10610</th>\n",
       "      <td>135</td>\n",
       "      <td>131</td>\n",
       "      <td>128</td>\n",
       "    </tr>\n",
       "    <tr>\n",
       "      <th>16631</th>\n",
       "      <td>169</td>\n",
       "      <td>131</td>\n",
       "      <td>133</td>\n",
       "    </tr>\n",
       "    <tr>\n",
       "      <th>21830</th>\n",
       "      <td>165</td>\n",
       "      <td>138</td>\n",
       "      <td>136</td>\n",
       "    </tr>\n",
       "    <tr>\n",
       "      <th>22940</th>\n",
       "      <td>9619</td>\n",
       "      <td>8150</td>\n",
       "      <td>9179</td>\n",
       "    </tr>\n",
       "    <tr>\n",
       "      <th>24328</th>\n",
       "      <td>149</td>\n",
       "      <td>107</td>\n",
       "      <td>109</td>\n",
       "    </tr>\n",
       "    <tr>\n",
       "      <th>25951</th>\n",
       "      <td>114</td>\n",
       "      <td>55</td>\n",
       "      <td>112</td>\n",
       "    </tr>\n",
       "    <tr>\n",
       "      <th>26353</th>\n",
       "      <td>152</td>\n",
       "      <td>130</td>\n",
       "      <td>101</td>\n",
       "    </tr>\n",
       "    <tr>\n",
       "      <th>29324</th>\n",
       "      <td>169</td>\n",
       "      <td>133</td>\n",
       "      <td>131</td>\n",
       "    </tr>\n",
       "    <tr>\n",
       "      <th>29843</th>\n",
       "      <td>113</td>\n",
       "      <td>78</td>\n",
       "      <td>106</td>\n",
       "    </tr>\n",
       "    <tr>\n",
       "      <th>31176</th>\n",
       "      <td>165</td>\n",
       "      <td>136</td>\n",
       "      <td>138</td>\n",
       "    </tr>\n",
       "    <tr>\n",
       "      <th>32794</th>\n",
       "      <td>159</td>\n",
       "      <td>156</td>\n",
       "      <td>129</td>\n",
       "    </tr>\n",
       "    <tr>\n",
       "      <th>32809</th>\n",
       "      <td>159</td>\n",
       "      <td>156</td>\n",
       "      <td>129</td>\n",
       "    </tr>\n",
       "    <tr>\n",
       "      <th>34912</th>\n",
       "      <td>200</td>\n",
       "      <td>142</td>\n",
       "      <td>160</td>\n",
       "    </tr>\n",
       "    <tr>\n",
       "      <th>36012</th>\n",
       "      <td>157</td>\n",
       "      <td>82</td>\n",
       "      <td>123</td>\n",
       "    </tr>\n",
       "    <tr>\n",
       "      <th>36018</th>\n",
       "      <td>143</td>\n",
       "      <td>48</td>\n",
       "      <td>128</td>\n",
       "    </tr>\n",
       "    <tr>\n",
       "      <th>...</th>\n",
       "      <td>...</td>\n",
       "      <td>...</td>\n",
       "      <td>...</td>\n",
       "    </tr>\n",
       "    <tr>\n",
       "      <th>560077</th>\n",
       "      <td>169</td>\n",
       "      <td>130</td>\n",
       "      <td>114</td>\n",
       "    </tr>\n",
       "    <tr>\n",
       "      <th>560465</th>\n",
       "      <td>147</td>\n",
       "      <td>42</td>\n",
       "      <td>144</td>\n",
       "    </tr>\n",
       "    <tr>\n",
       "      <th>560838</th>\n",
       "      <td>106</td>\n",
       "      <td>104</td>\n",
       "      <td>42</td>\n",
       "    </tr>\n",
       "    <tr>\n",
       "      <th>561284</th>\n",
       "      <td>143</td>\n",
       "      <td>37</td>\n",
       "      <td>110</td>\n",
       "    </tr>\n",
       "    <tr>\n",
       "      <th>561326</th>\n",
       "      <td>132</td>\n",
       "      <td>121</td>\n",
       "      <td>109</td>\n",
       "    </tr>\n",
       "    <tr>\n",
       "      <th>562323</th>\n",
       "      <td>185</td>\n",
       "      <td>105</td>\n",
       "      <td>146</td>\n",
       "    </tr>\n",
       "    <tr>\n",
       "      <th>562333</th>\n",
       "      <td>278</td>\n",
       "      <td>146</td>\n",
       "      <td>101</td>\n",
       "    </tr>\n",
       "    <tr>\n",
       "      <th>563005</th>\n",
       "      <td>271</td>\n",
       "      <td>130</td>\n",
       "      <td>109</td>\n",
       "    </tr>\n",
       "    <tr>\n",
       "      <th>563066</th>\n",
       "      <td>186</td>\n",
       "      <td>179</td>\n",
       "      <td>147</td>\n",
       "    </tr>\n",
       "    <tr>\n",
       "      <th>563340</th>\n",
       "      <td>145</td>\n",
       "      <td>135</td>\n",
       "      <td>115</td>\n",
       "    </tr>\n",
       "    <tr>\n",
       "      <th>564178</th>\n",
       "      <td>137</td>\n",
       "      <td>119</td>\n",
       "      <td>66</td>\n",
       "    </tr>\n",
       "    <tr>\n",
       "      <th>564200</th>\n",
       "      <td>139</td>\n",
       "      <td>134</td>\n",
       "      <td>94</td>\n",
       "    </tr>\n",
       "    <tr>\n",
       "      <th>564330</th>\n",
       "      <td>150</td>\n",
       "      <td>114</td>\n",
       "      <td>86</td>\n",
       "    </tr>\n",
       "    <tr>\n",
       "      <th>564883</th>\n",
       "      <td>107</td>\n",
       "      <td>101</td>\n",
       "      <td>32</td>\n",
       "    </tr>\n",
       "    <tr>\n",
       "      <th>565132</th>\n",
       "      <td>158</td>\n",
       "      <td>47</td>\n",
       "      <td>144</td>\n",
       "    </tr>\n",
       "    <tr>\n",
       "      <th>565243</th>\n",
       "      <td>118</td>\n",
       "      <td>107</td>\n",
       "      <td>43</td>\n",
       "    </tr>\n",
       "    <tr>\n",
       "      <th>565641</th>\n",
       "      <td>194</td>\n",
       "      <td>130</td>\n",
       "      <td>158</td>\n",
       "    </tr>\n",
       "    <tr>\n",
       "      <th>565759</th>\n",
       "      <td>129</td>\n",
       "      <td>84</td>\n",
       "      <td>116</td>\n",
       "    </tr>\n",
       "    <tr>\n",
       "      <th>565928</th>\n",
       "      <td>285</td>\n",
       "      <td>209</td>\n",
       "      <td>125</td>\n",
       "    </tr>\n",
       "    <tr>\n",
       "      <th>565957</th>\n",
       "      <td>118</td>\n",
       "      <td>109</td>\n",
       "      <td>70</td>\n",
       "    </tr>\n",
       "    <tr>\n",
       "      <th>566260</th>\n",
       "      <td>285</td>\n",
       "      <td>233</td>\n",
       "      <td>101</td>\n",
       "    </tr>\n",
       "    <tr>\n",
       "      <th>566461</th>\n",
       "      <td>117</td>\n",
       "      <td>100</td>\n",
       "      <td>102</td>\n",
       "    </tr>\n",
       "    <tr>\n",
       "      <th>567288</th>\n",
       "      <td>273</td>\n",
       "      <td>161</td>\n",
       "      <td>96</td>\n",
       "    </tr>\n",
       "    <tr>\n",
       "      <th>567611</th>\n",
       "      <td>146</td>\n",
       "      <td>43</td>\n",
       "      <td>130</td>\n",
       "    </tr>\n",
       "    <tr>\n",
       "      <th>568268</th>\n",
       "      <td>124</td>\n",
       "      <td>31</td>\n",
       "      <td>101</td>\n",
       "    </tr>\n",
       "    <tr>\n",
       "      <th>568667</th>\n",
       "      <td>117</td>\n",
       "      <td>41</td>\n",
       "      <td>114</td>\n",
       "    </tr>\n",
       "    <tr>\n",
       "      <th>569405</th>\n",
       "      <td>137</td>\n",
       "      <td>115</td>\n",
       "      <td>102</td>\n",
       "    </tr>\n",
       "    <tr>\n",
       "      <th>569697</th>\n",
       "      <td>112</td>\n",
       "      <td>104</td>\n",
       "      <td>11</td>\n",
       "    </tr>\n",
       "    <tr>\n",
       "      <th>569724</th>\n",
       "      <td>188</td>\n",
       "      <td>169</td>\n",
       "      <td>167</td>\n",
       "    </tr>\n",
       "    <tr>\n",
       "      <th>569974</th>\n",
       "      <td>120</td>\n",
       "      <td>55</td>\n",
       "      <td>118</td>\n",
       "    </tr>\n",
       "  </tbody>\n",
       "</table>\n",
       "<p>1171 rows × 3 columns</p>\n",
       "</div>"
      ],
      "text/plain": [
       "        sentence_length  entity1_pos  entity2_pos\n",
       "374                 134          118          107\n",
       "1141                106          102           83\n",
       "1142                106          102           83\n",
       "1837                154           91          109\n",
       "1838                154           91          109\n",
       "2621                104           52          102\n",
       "2669                104           52          102\n",
       "2761                159          156          117\n",
       "2981                159          156          117\n",
       "3872                104           52          102\n",
       "3920                104           52          102\n",
       "4012                159          156          117\n",
       "4232                159          156          117\n",
       "8552                139           15          128\n",
       "10605               135          131          128\n",
       "10610               135          131          128\n",
       "16631               169          131          133\n",
       "21830               165          138          136\n",
       "22940              9619         8150         9179\n",
       "24328               149          107          109\n",
       "25951               114           55          112\n",
       "26353               152          130          101\n",
       "29324               169          133          131\n",
       "29843               113           78          106\n",
       "31176               165          136          138\n",
       "32794               159          156          129\n",
       "32809               159          156          129\n",
       "34912               200          142          160\n",
       "36012               157           82          123\n",
       "36018               143           48          128\n",
       "...                 ...          ...          ...\n",
       "560077              169          130          114\n",
       "560465              147           42          144\n",
       "560838              106          104           42\n",
       "561284              143           37          110\n",
       "561326              132          121          109\n",
       "562323              185          105          146\n",
       "562333              278          146          101\n",
       "563005              271          130          109\n",
       "563066              186          179          147\n",
       "563340              145          135          115\n",
       "564178              137          119           66\n",
       "564200              139          134           94\n",
       "564330              150          114           86\n",
       "564883              107          101           32\n",
       "565132              158           47          144\n",
       "565243              118          107           43\n",
       "565641              194          130          158\n",
       "565759              129           84          116\n",
       "565928              285          209          125\n",
       "565957              118          109           70\n",
       "566260              285          233          101\n",
       "566461              117          100          102\n",
       "567288              273          161           96\n",
       "567611              146           43          130\n",
       "568268              124           31          101\n",
       "568667              117           41          114\n",
       "569405              137          115          102\n",
       "569697              112          104           11\n",
       "569724              188          169          167\n",
       "569974              120           55          118\n",
       "\n",
       "[1171 rows x 3 columns]"
      ]
     },
     "execution_count": 21,
     "metadata": {},
     "output_type": "execute_result"
    }
   ],
   "source": [
    "seq_data.loc[(seq_data.sentence_length>100)&((seq_data.entity1_pos>100)|(seq_data.entity2_pos>100))]"
   ]
  },
  {
   "cell_type": "code",
   "execution_count": null,
   "metadata": {
    "collapsed": true
   },
   "outputs": [],
   "source": []
  },
  {
   "cell_type": "code",
   "execution_count": null,
   "metadata": {
    "collapsed": true
   },
   "outputs": [],
   "source": []
  },
  {
   "cell_type": "code",
   "execution_count": null,
   "metadata": {
    "collapsed": true
   },
   "outputs": [],
   "source": []
  },
  {
   "cell_type": "code",
   "execution_count": null,
   "metadata": {
    "collapsed": true
   },
   "outputs": [],
   "source": []
  },
  {
   "cell_type": "code",
   "execution_count": 12,
   "metadata": {},
   "outputs": [
    {
     "data": {
      "text/plain": [
       "748"
      ]
     },
     "execution_count": 12,
     "metadata": {},
     "output_type": "execute_result"
    }
   ],
   "source": []
  },
  {
   "cell_type": "code",
   "execution_count": null,
   "metadata": {},
   "outputs": [],
   "source": [
    "import matplotlib.pyplot as plt\n",
    "import matplotlib.mlab as mlab\n",
    "%matplotlib inline\n",
    "n,bins,patches=plt.hist(seq_dis,10)\n",
    "y=mlab.normpdf(bins,100,15)\n",
    "plt.plot(bins,y)\n"
   ]
  },
  {
   "cell_type": "code",
   "execution_count": null,
   "metadata": {},
   "outputs": [],
   "source": [
    "max(seq_dis)"
   ]
  },
  {
   "cell_type": "code",
   "execution_count": null,
   "metadata": {},
   "outputs": [],
   "source": [
    "min(seq_dis)"
   ]
  },
  {
   "cell_type": "code",
   "execution_count": 23,
   "metadata": {
    "collapsed": true
   },
   "outputs": [],
   "source": [
    "import seaborn as sns\n",
    "%matplotlib inline"
   ]
  },
  {
   "cell_type": "code",
   "execution_count": 27,
   "metadata": {},
   "outputs": [
    {
     "ename": "TypeError",
     "evalue": "distplot() got an unexpected keyword argument 'log'",
     "output_type": "error",
     "traceback": [
      "\u001b[0;31m---------------------------------------------------------------------------\u001b[0m",
      "\u001b[0;31mTypeError\u001b[0m                                 Traceback (most recent call last)",
      "\u001b[0;32m<ipython-input-27-cccbffc329ec>\u001b[0m in \u001b[0;36m<module>\u001b[0;34m()\u001b[0m\n\u001b[0;32m----> 1\u001b[0;31m \u001b[0msns\u001b[0m\u001b[0;34m.\u001b[0m\u001b[0mdistplot\u001b[0m\u001b[0;34m(\u001b[0m\u001b[0mseq_data\u001b[0m\u001b[0;34m.\u001b[0m\u001b[0msentence_length\u001b[0m\u001b[0;34m,\u001b[0m \u001b[0mlog\u001b[0m\u001b[0;34m=\u001b[0m\u001b[0;32mTrue\u001b[0m\u001b[0;34m)\u001b[0m\u001b[0;34m\u001b[0m\u001b[0m\n\u001b[0m",
      "\u001b[0;31mTypeError\u001b[0m: distplot() got an unexpected keyword argument 'log'"
     ]
    }
   ],
   "source": [
    "sns.distplot(seq_data.sentence_length, log=True)"
   ]
  },
  {
   "cell_type": "code",
   "execution_count": null,
   "metadata": {},
   "outputs": [],
   "source": [
    "seq_dis[seq_dis>100]"
   ]
  },
  {
   "cell_type": "code",
   "execution_count": null,
   "metadata": {
    "collapsed": true
   },
   "outputs": [],
   "source": [
    "seq_dis>100"
   ]
  },
  {
   "cell_type": "code",
   "execution_count": null,
   "metadata": {
    "collapsed": true
   },
   "outputs": [],
   "source": [
    "sorted_seq_dis = sorted(seq_dis)"
   ]
  },
  {
   "cell_type": "code",
   "execution_count": null,
   "metadata": {
    "collapsed": true
   },
   "outputs": [],
   "source": [
    "sorted_seq_dis[:10]"
   ]
  },
  {
   "cell_type": "code",
   "execution_count": null,
   "metadata": {
    "collapsed": true
   },
   "outputs": [],
   "source": [
    "sorted_seq_dis[-10:]"
   ]
  },
  {
   "cell_type": "code",
   "execution_count": null,
   "metadata": {
    "collapsed": true
   },
   "outputs": [],
   "source": [
    "sorted_seq_dis[-1000:]"
   ]
  },
  {
   "cell_type": "markdown",
   "metadata": {
    "collapsed": true
   },
   "source": [
    "# Using matplotlib's hist function"
   ]
  },
  {
   "cell_type": "code",
   "execution_count": 29,
   "metadata": {},
   "outputs": [],
   "source": [
    "from matplotlib.pyplot import hist"
   ]
  },
  {
   "cell_type": "code",
   "execution_count": 31,
   "metadata": {},
   "outputs": [
    {
     "data": {
      "text/plain": [
       "(array([  5.66341000e+05,   3.49500000e+03,   1.81000000e+02,\n",
       "          5.50000000e+01,   1.20000000e+01,   0.00000000e+00,\n",
       "          0.00000000e+00,   0.00000000e+00,   2.00000000e+00,\n",
       "          0.00000000e+00,   0.00000000e+00,   0.00000000e+00,\n",
       "          0.00000000e+00,   0.00000000e+00,   0.00000000e+00,\n",
       "          0.00000000e+00,   0.00000000e+00,   0.00000000e+00,\n",
       "          0.00000000e+00,   0.00000000e+00,   0.00000000e+00,\n",
       "          0.00000000e+00,   0.00000000e+00,   0.00000000e+00,\n",
       "          0.00000000e+00,   0.00000000e+00,   0.00000000e+00,\n",
       "          0.00000000e+00,   0.00000000e+00,   0.00000000e+00,\n",
       "          0.00000000e+00,   0.00000000e+00,   0.00000000e+00,\n",
       "          0.00000000e+00,   0.00000000e+00,   0.00000000e+00,\n",
       "          0.00000000e+00,   0.00000000e+00,   0.00000000e+00,\n",
       "          0.00000000e+00,   0.00000000e+00,   0.00000000e+00,\n",
       "          0.00000000e+00,   0.00000000e+00,   0.00000000e+00,\n",
       "          0.00000000e+00,   0.00000000e+00,   0.00000000e+00,\n",
       "          0.00000000e+00,   0.00000000e+00,   0.00000000e+00,\n",
       "          0.00000000e+00,   0.00000000e+00,   0.00000000e+00,\n",
       "          0.00000000e+00,   0.00000000e+00,   0.00000000e+00,\n",
       "          0.00000000e+00,   0.00000000e+00,   0.00000000e+00,\n",
       "          0.00000000e+00,   0.00000000e+00,   0.00000000e+00,\n",
       "          0.00000000e+00,   0.00000000e+00,   0.00000000e+00,\n",
       "          0.00000000e+00,   0.00000000e+00,   0.00000000e+00,\n",
       "          0.00000000e+00,   0.00000000e+00,   0.00000000e+00,\n",
       "          0.00000000e+00,   0.00000000e+00,   0.00000000e+00,\n",
       "          0.00000000e+00,   0.00000000e+00,   0.00000000e+00,\n",
       "          0.00000000e+00,   0.00000000e+00,   0.00000000e+00,\n",
       "          0.00000000e+00,   0.00000000e+00,   0.00000000e+00,\n",
       "          0.00000000e+00,   0.00000000e+00,   0.00000000e+00,\n",
       "          0.00000000e+00,   0.00000000e+00,   0.00000000e+00,\n",
       "          0.00000000e+00,   0.00000000e+00,   0.00000000e+00,\n",
       "          0.00000000e+00,   0.00000000e+00,   0.00000000e+00,\n",
       "          0.00000000e+00,   0.00000000e+00,   0.00000000e+00,\n",
       "          2.00000000e+00]),\n",
       " array([  4.00000000e+00,   1.00150000e+02,   1.96300000e+02,\n",
       "          2.92450000e+02,   3.88600000e+02,   4.84750000e+02,\n",
       "          5.80900000e+02,   6.77050000e+02,   7.73200000e+02,\n",
       "          8.69350000e+02,   9.65500000e+02,   1.06165000e+03,\n",
       "          1.15780000e+03,   1.25395000e+03,   1.35010000e+03,\n",
       "          1.44625000e+03,   1.54240000e+03,   1.63855000e+03,\n",
       "          1.73470000e+03,   1.83085000e+03,   1.92700000e+03,\n",
       "          2.02315000e+03,   2.11930000e+03,   2.21545000e+03,\n",
       "          2.31160000e+03,   2.40775000e+03,   2.50390000e+03,\n",
       "          2.60005000e+03,   2.69620000e+03,   2.79235000e+03,\n",
       "          2.88850000e+03,   2.98465000e+03,   3.08080000e+03,\n",
       "          3.17695000e+03,   3.27310000e+03,   3.36925000e+03,\n",
       "          3.46540000e+03,   3.56155000e+03,   3.65770000e+03,\n",
       "          3.75385000e+03,   3.85000000e+03,   3.94615000e+03,\n",
       "          4.04230000e+03,   4.13845000e+03,   4.23460000e+03,\n",
       "          4.33075000e+03,   4.42690000e+03,   4.52305000e+03,\n",
       "          4.61920000e+03,   4.71535000e+03,   4.81150000e+03,\n",
       "          4.90765000e+03,   5.00380000e+03,   5.09995000e+03,\n",
       "          5.19610000e+03,   5.29225000e+03,   5.38840000e+03,\n",
       "          5.48455000e+03,   5.58070000e+03,   5.67685000e+03,\n",
       "          5.77300000e+03,   5.86915000e+03,   5.96530000e+03,\n",
       "          6.06145000e+03,   6.15760000e+03,   6.25375000e+03,\n",
       "          6.34990000e+03,   6.44605000e+03,   6.54220000e+03,\n",
       "          6.63835000e+03,   6.73450000e+03,   6.83065000e+03,\n",
       "          6.92680000e+03,   7.02295000e+03,   7.11910000e+03,\n",
       "          7.21525000e+03,   7.31140000e+03,   7.40755000e+03,\n",
       "          7.50370000e+03,   7.59985000e+03,   7.69600000e+03,\n",
       "          7.79215000e+03,   7.88830000e+03,   7.98445000e+03,\n",
       "          8.08060000e+03,   8.17675000e+03,   8.27290000e+03,\n",
       "          8.36905000e+03,   8.46520000e+03,   8.56135000e+03,\n",
       "          8.65750000e+03,   8.75365000e+03,   8.84980000e+03,\n",
       "          8.94595000e+03,   9.04210000e+03,   9.13825000e+03,\n",
       "          9.23440000e+03,   9.33055000e+03,   9.42670000e+03,\n",
       "          9.52285000e+03,   9.61900000e+03]),\n",
       " <a list of 100 Patch objects>)"
      ]
     },
     "execution_count": 31,
     "metadata": {},
     "output_type": "execute_result"
    },
    {
     "data": {
      "image/png": "[encoded data removed]",
      "text/plain": [
       "<matplotlib.figure.Figure at 0x7f13069820f0>"
      ]
     },
     "metadata": {},
     "output_type": "display_data"
    }
   ],
   "source": [
    "hist(seq_data.sentence_length, bins=100)"
   ]
  },
  {
   "cell_type": "code",
   "execution_count": 38,
   "metadata": {},
   "outputs": [
    {
     "data": {
      "text/plain": [
       "<matplotlib.axes._subplots.AxesSubplot at 0x7f1306a4a1d0>"
      ]
     },
     "execution_count": 38,
     "metadata": {},
     "output_type": "execute_result"
    },
    {
     "data": {
      "image/png": "[encoded data removed]",
      "text/plain": [
       "<matplotlib.figure.Figure at 0x7f13064bac50>"
      ]
     },
     "metadata": {},
     "output_type": "display_data"
    }
   ],
   "source": [
    "seq_data.sentence_length.loc[seq_data.sentence_length<100].hist()"
   ]
  },
  {
   "cell_type": "code",
   "execution_count": null,
   "metadata": {
    "collapsed": true
   },
   "outputs": [],
   "source": []
  }
 ],
 "metadata": {
  "kernelspec": {
   "display_name": "Python 3",
   "language": "python",
   "name": "python3"
  },
  "language_info": {
   "codemirror_mode": {
    "name": "ipython",
    "version": 3
   },
   "file_extension": ".py",
   "mimetype": "text/x-python",
   "name": "python",
   "nbconvert_exporter": "python",
   "pygments_lexer": "ipython3",
   "version": "3.5.2"
  }
 },
 "nbformat": 4,
 "nbformat_minor": 2
}

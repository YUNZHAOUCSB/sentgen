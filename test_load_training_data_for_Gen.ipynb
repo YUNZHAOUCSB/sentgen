{
 "cells": [
  {
   "cell_type": "code",
   "execution_count": 1,
   "metadata": {},
   "outputs": [],
   "source": [
    "import tensorflow as tf\n",
    "import os\n",
    "os.environ['CUDA_VISIBLE_DEVICES']='2'\n",
    "import random\n",
    "import time\n",
    "import datetime\n",
    "from dataloader import DataManager\n",
    "import numpy as np"
   ]
  },
  {
   "cell_type": "code",
   "execution_count": 2,
   "metadata": {},
   "outputs": [
    {
     "name": "stdout",
     "output_type": "stream",
     "text": [
      "RelationTotal: 53\n",
      "WordTotal:  114043\n",
      "Word dimension:  50\n"
     ]
    }
   ],
   "source": [
    "# data_dir = '/home/yunzhao/PJ/seqGan/AC_SEQ_GAN/PCNN_GAN/Discriminator/data'\n",
    "data_dir = '/home/rohanjain/data/sentgen/'\n",
    "conf = {}\n",
    "conf['word2vec_file'] = os.path.join(data_dir, 'vec.txt')\n",
    "conf['relation2id_file'] = os.path.join(data_dir, 'RE/relation2id.txt')\n",
    "conf['entity2id_file'] = os.path.join(data_dir, 'RE/entity2id.txt')\n",
    "conf['sequence_length'] = 100\n",
    "conf['vocab2id_file'] = './vocab2id.txt'\n",
    "conf['training_file'] = os.path.join(data_dir, 'RE/train.txt')\n",
    "datamanager = DataManager(conf)\n",
    "\n",
    "# word2id_file='/home/yunzhao/PJ/seqGan/AC_SEQ_GAN/PCNN_GAN/vocab2id.txt'\n",
    "# word2word2vec_fileid_file = './vocab2id.txt'"
   ]
  },
  {
   "cell_type": "markdown",
   "metadata": {},
   "source": [
    "relation_data = list(open(relation2id_file).readlines())\n",
    "relation_data = [s.split() for s in relation_data]\n",
    "relation2id = {}\n",
    "for relation in relation_data:\n",
    "    relation2id[relation[0]]=relation[1]\n",
    "relation2id['/base/locations/countries/states_provinces_within']"
   ]
  },
  {
   "cell_type": "code",
   "execution_count": 3,
   "metadata": {},
   "outputs": [
    {
     "name": "stdout",
     "output_type": "stream",
     "text": [
      "Start loading training data for Generator.\n",
      "====================\n"
     ]
    }
   ],
   "source": [
    "training_data = datamanager.load_training_data_for_Gen()"
   ]
  },
  {
   "cell_type": "code",
   "execution_count": 4,
   "metadata": {},
   "outputs": [],
   "source": [
    "data1 = training_data[10]"
   ]
  },
  {
   "cell_type": "code",
   "execution_count": 5,
   "metadata": {},
   "outputs": [
    {
     "data": {
      "text/plain": [
       "Training_sample(relation_idx=28| words_idx=[1, 1, 18, 9, 1, 1, 3, 6, 3120, 1, 1, 3, 1, 5, 4153, 1, 1, 1, 5, 6, 1, 3, 24, 437, 3, 7, 4, 1, 823, 3, 44, 6, 504, 1, 85, 2421, 1523, 3, 1050, 20, 4, 1, 6, 1663, 47, 3376, 8]| entity1p=12| entity2p=32)"
      ]
     },
     "execution_count": 5,
     "metadata": {},
     "output_type": "execute_result"
    }
   ],
   "source": [
    "data1"
   ]
  },
  {
   "cell_type": "code",
   "execution_count": null,
   "metadata": {},
   "outputs": [],
   "source": [
    "type(training_data[-1].words_idx[0])"
   ]
  },
  {
   "cell_type": "code",
   "execution_count": null,
   "metadata": {
    "collapsed": true
   },
   "outputs": [],
   "source": [
    "import numpy as np\n",
    "a=[int(word) for word in training_data[-1].words_idx]"
   ]
  },
  {
   "cell_type": "code",
   "execution_count": null,
   "metadata": {},
   "outputs": [],
   "source": [
    "type(a)"
   ]
  },
  {
   "cell_type": "code",
   "execution_count": null,
   "metadata": {},
   "outputs": [],
   "source": [
    "i=1\n",
    "labels = [elem.words_idx[i] for elem in training_data]"
   ]
  },
  {
   "cell_type": "code",
   "execution_count": null,
   "metadata": {},
   "outputs": [],
   "source": [
    "labels"
   ]
  },
  {
   "cell_type": "code",
   "execution_count": 7,
   "metadata": {
    "collapsed": true
   },
   "outputs": [],
   "source": [
    "from utils import batch_iter"
   ]
  },
  {
   "cell_type": "code",
   "execution_count": 10,
   "metadata": {},
   "outputs": [
    {
     "ename": "TypeError",
     "evalue": "only integer scalar arrays can be converted to a scalar index",
     "output_type": "error",
     "traceback": [
      "\u001b[0;31m---------------------------------------------------------------------------\u001b[0m",
      "\u001b[0;31mTypeError\u001b[0m                                 Traceback (most recent call last)",
      "\u001b[0;32m<ipython-input-10-6cc2cc08cdaa>\u001b[0m in \u001b[0;36m<module>\u001b[0;34m()\u001b[0m\n\u001b[0;32m----> 1\u001b[0;31m \u001b[0;32mfor\u001b[0m \u001b[0mi\u001b[0m\u001b[0;34m,\u001b[0m \u001b[0mbatch\u001b[0m \u001b[0;32min\u001b[0m \u001b[0menumerate\u001b[0m\u001b[0;34m(\u001b[0m\u001b[0mbatch_iter\u001b[0m\u001b[0;34m(\u001b[0m\u001b[0mtraining_data\u001b[0m\u001b[0;34m,\u001b[0m \u001b[0;36m64\u001b[0m\u001b[0;34m)\u001b[0m\u001b[0;34m)\u001b[0m\u001b[0;34m:\u001b[0m\u001b[0;34m\u001b[0m\u001b[0m\n\u001b[0m\u001b[1;32m      2\u001b[0m     \u001b[0mprint\u001b[0m\u001b[0;34m(\u001b[0m\u001b[0;34m\"Batch: \"\u001b[0m\u001b[0;34m,\u001b[0m \u001b[0mi\u001b[0m\u001b[0;34m)\u001b[0m\u001b[0;34m\u001b[0m\u001b[0m\n\u001b[1;32m      3\u001b[0m     \u001b[0mprint\u001b[0m\u001b[0;34m(\u001b[0m\u001b[0mlen\u001b[0m\u001b[0;34m(\u001b[0m\u001b[0mbatch\u001b[0m\u001b[0;34m)\u001b[0m\u001b[0;34m)\u001b[0m\u001b[0;34m\u001b[0m\u001b[0m\n",
      "\u001b[0;32m/home/rohanjain/code/sentgen/mygen/utils.py\u001b[0m in \u001b[0;36mbatch_iter\u001b[0;34m(data, batch_size, shuffle)\u001b[0m\n\u001b[1;32m     33\u001b[0m     \u001b[0;32mif\u001b[0m \u001b[0mshuffle\u001b[0m\u001b[0;34m:\u001b[0m\u001b[0;34m\u001b[0m\u001b[0m\n\u001b[1;32m     34\u001b[0m         \u001b[0mshuffle_indices\u001b[0m \u001b[0;34m=\u001b[0m \u001b[0mnp\u001b[0m\u001b[0;34m.\u001b[0m\u001b[0mrandom\u001b[0m\u001b[0;34m.\u001b[0m\u001b[0mpermutation\u001b[0m\u001b[0;34m(\u001b[0m\u001b[0mnp\u001b[0m\u001b[0;34m.\u001b[0m\u001b[0marange\u001b[0m\u001b[0;34m(\u001b[0m\u001b[0mdata_size\u001b[0m\u001b[0;34m)\u001b[0m\u001b[0;34m)\u001b[0m\u001b[0;34m\u001b[0m\u001b[0m\n\u001b[0;32m---> 35\u001b[0;31m         \u001b[0mshuffled_data\u001b[0m \u001b[0;34m=\u001b[0m \u001b[0mdata\u001b[0m\u001b[0;34m[\u001b[0m\u001b[0mshuffle_indices\u001b[0m\u001b[0;34m]\u001b[0m\u001b[0;34m\u001b[0m\u001b[0m\n\u001b[0m\u001b[1;32m     36\u001b[0m     \u001b[0;32melse\u001b[0m\u001b[0;34m:\u001b[0m\u001b[0;34m\u001b[0m\u001b[0m\n\u001b[1;32m     37\u001b[0m         \u001b[0mshuffled_data\u001b[0m \u001b[0;34m=\u001b[0m \u001b[0mdata\u001b[0m\u001b[0;34m\u001b[0m\u001b[0m\n",
      "\u001b[0;31mTypeError\u001b[0m: only integer scalar arrays can be converted to a scalar index"
     ]
    }
   ],
   "source": [
    "for i, batch in enumerate(batch_iter(training_data, 64)):\n",
    "    print(\"Batch: \", i)\n",
    "    print(len(batch))"
   ]
  },
  {
   "cell_type": "code",
   "execution_count": 8,
   "metadata": {},
   "outputs": [],
   "source": [
    "batch_iterr = batch_iter(training_data, 64)"
   ]
  },
  {
   "cell_type": "code",
   "execution_count": 9,
   "metadata": {
    "collapsed": true
   },
   "outputs": [],
   "source": [
    "a = batch_iterr.__next__()"
   ]
  },
  {
   "cell_type": "code",
   "execution_count": 12,
   "metadata": {},
   "outputs": [
    {
     "data": {
      "text/plain": [
       "(64,)"
      ]
     },
     "execution_count": 12,
     "metadata": {},
     "output_type": "execute_result"
    }
   ],
   "source": [
    "a.shape"
   ]
  },
  {
   "cell_type": "code",
   "execution_count": 11,
   "metadata": {},
   "outputs": [
    {
     "data": {
      "text/plain": [
       "[Training_sample(relation_idx=9| words_idx=[4986, 105, 1525, 12, 54, 1, 1055, 15, 3570, 19, 1163, 16, 474, 3, 21, 3563, 1979, 3, 57, 34, 671, 11, 9, 117, 7, 9, 1322, 126, 1, 99, 1, 28, 56, 31, 59, 9, 307, 4767, 19, 237, 480, 1, 71, 4, 1, 1, 1268, 5, 1, 1, 2031, 474, 4183, 8]| entity1p=5| entity2p=10),\n",
       " Training_sample(relation_idx=0| words_idx=[9, 1, 2990, 6, 1, 72, 1696, 249, 4, 1, 3170, 22, 326, 1, 11, 1316, 5, 1, 14, 9, 1, 1926, 981, 13, 2190, 42, 33, 815, 79, 996, 1, 3, 1360, 5, 9, 1, 985, 3592, 14, 4, 1, 434, 3197, 444, 42, 33, 1, 5, 1, 20, 9, 2466, 3494, 14, 4, 1084, 4847, 2041, 7, 72, 132, 1, 965, 99, 4, 29, 351, 2504, 3, 20, 144, 20, 1, 3217, 5, 1, 867, 1548, 6, 29, 252, 997, 8]| entity1p=24| entity2p=55),\n",
       " Training_sample(relation_idx=0| words_idx=[53, 3, 4, 1173, 11, 39, 5, 1562, 1, 6, 4, 1, 1259, 3, 25, 4, 4711, 7, 4, 534, 1, 4, 64, 68, 3, 53, 3, 131, 387, 3, 1615, 3, 116, 5, 152, 1, 34, 722, 10, 1, 1, 17, 4, 1, 2342, 8, 1]| entity1p=30| entity2p=25),\n",
       " Training_sample(relation_idx=0| words_idx=[7, 9, 1320, 459, 16, 752, 1, 1, 1935, 6, 386, 299, 302, 7, 1710, 3, 1, 3, 26, 924, 84, 451, 11, 29, 351, 3, 25, 3, 1, 4, 84, 451, 95, 18, 2305, 80, 6, 237, 3418, 3, 35, 20, 6, 4, 1682, 105, 32, 3400, 11, 9, 1, 8, 1]| entity1p=16| entity2p=30),\n",
       " Training_sample(relation_idx=29| words_idx=[20, 21, 3060, 3, 23, 429, 4, 194, 6, 1, 3, 26, 1, 1, 17, 1, 8]| entity1p=9| entity2p=15),\n",
       " Training_sample(relation_idx=0| words_idx=[80, 682, 1, 1, 1, 13, 4, 61, 109, 3, 1, 5, 142, 1070, 3, 17, 80, 682, 631, 3, 1, 161, 1, 126, 3, 430, 3, 1, 1, 8]| entity1p=25| entity2p=7),\n",
       " Training_sample(relation_idx=0| words_idx=[4, 1, 1, 1, 6, 2159, 3, 4, 1621, 833, 1, 1, 6, 1, 3, 4, 1618, 833, 1, 2556, 6, 3998, 5, 4, 1090, 833, 635, 262, 6, 1322, 51, 1, 10, 4, 1, 2019, 3005, 3, 117, 4, 1, 2748, 1, 6, 4379, 3, 4, 1, 1171, 1, 6, 1, 5, 269, 1, 6, 29, 1, 51, 2874, 79, 4, 188, 1, 1, 3005, 8]| entity1p=34| entity2p=21),\n",
       " Training_sample(relation_idx=0| words_idx=[4683, 6, 4, 2130, 503, 3, 209, 521, 50, 1, 7, 93, 1, 3, 31, 59, 1, 7, 246, 3, 313, 3, 283, 5, 4101, 3, 1093, 7, 1328, 843, 71, 673, 1, 32, 555, 791, 10, 235, 544, 1, 1, 5, 26, 2775, 4277, 6, 1924, 8]| entity1p=18| entity2p=24),\n",
       " Training_sample(relation_idx=0| words_idx=[23, 95, 34, 49, 29, 2482, 6, 1, 3, 4, 4006, 1377, 5, 185, 7, 4, 84, 24, 331, 4, 1039, 12, 4, 1, 51, 9, 1891, 6, 47, 301, 521, 8]| entity1p=28| entity2p=16),\n",
       " Training_sample(relation_idx=0| words_idx=[4, 1206, 85, 3218, 3036, 20, 1297, 4777, 234, 3827, 1, 1, 1, 1447, 5, 1, 120, 1, 6, 4, 64, 68, 302, 6, 3067, 11, 4, 1080, 3768, 7, 2399, 3, 1, 14, 752, 90, 1, 1569, 1, 3, 24, 4162, 13, 4, 3067, 302, 211, 7, 97, 14, 5, 752, 120, 1, 1, 6, 4, 1, 3768, 3, 24, 4162, 7, 1, 8]| entity1p=30| entity2p=63),\n",
       " Training_sample(relation_idx=0| words_idx=[818, 1, 1, 1, 1, 1, 474, 1, 1, 245, 27, 1044, 20, 1, 30, 4, 1432, 12, 1, 98, 4, 1, 1, 1, 2415, 5, 21, 91, 3, 4354, 3, 319, 15, 1, 2841, 1, 5, 4, 1, 1, 1, 1, 3, 319, 15, 1, 3147, 3, 5, 908, 3, 319, 15, 1, 1, 18, 1, 244, 20, 1, 50, 1, 20, 4, 1, 1, 16, 276, 3, 1749, 5, 46, 1, 2604, 8]| entity1p=53| entity2p=69),\n",
       " Training_sample(relation_idx=0| words_idx=[7, 665, 10, 1, 781, 5, 1, 1, 3, 4, 63, 1261, 11, 4, 321, 2104, 11, 451, 175, 32, 3433, 216, 1, 1, 14, 1, 3, 9, 1, 856, 11, 3059, 533, 24, 2640, 9, 128, 12, 4341, 1, 103, 14, 1, 1, 3, 9, 74, 84, 451, 11, 538, 29, 66, 14, 5, 1713, 1, 1, 3, 9, 74, 2865, 10, 269, 430, 8]| entity1p=25| entity2p=47),\n",
       " Training_sample(relation_idx=0| words_idx=[677, 1, 1, 3, 4, 189, 6, 3274, 1, 1, 6, 2337, 552, 3, 1, 3, 5, 4, 180, 297, 1, 1, 3, 22, 514, 17, 4, 182, 1, 111, 87, 169, 10, 948, 1028, 1, 3, 4, 151, 6, 3882, 1, 5, 424, 1, 6, 1, 3, 1, 297, 1, 1, 3, 9, 873, 752, 6, 4, 371, 6, 2337, 552, 3, 2847, 3, 16, 1489, 1, 3, 26, 731, 5, 9, 610, 6, 4, 1, 182, 3, 589, 4, 1502, 8]| entity1p=76| entity2p=46),\n",
       " Training_sample(relation_idx=0| words_idx=[54, 4, 1598, 1, 1436, 6, 2243, 55, 1308, 7, 52, 3, 7, 413, 3, 28, 22, 376, 15, 9, 2409, 3832, 3, 2698, 1, 3, 35, 36, 1, 1439, 1655, 1, 12, 36, 1, 176, 127, 3, 1, 3, 34, 212, 28, 7, 1652, 4345, 8]| entity1p=10| entity2p=38),\n",
       " Training_sample(relation_idx=48| words_idx=[7, 1024, 3, 1, 190, 918, 3, 2023, 1, 3, 116, 3, 361, 1727, 1, 1, 10, 9, 1890, 4501, 5, 9, 4186, 263, 7, 1640, 1, 11, 1, 1, 1, 41, 60, 542, 3, 17, 1, 1, 10, 4, 2461, 1, 8]| entity1p=10| entity2p=26),\n",
       " Training_sample(relation_idx=48| words_idx=[1, 1, 1, 6, 1, 3, 52, 3, 9, 589, 219, 654, 2348, 13, 1, 5, 1, 5, 1398, 1945, 1, 3, 315, 7, 21, 1, 13, 473, 576, 17, 945, 1, 8]| entity1p=6| entity2p=4),\n",
       " Training_sample(relation_idx=48| words_idx=[652, 110, 717, 32, 251, 768, 50, 1, 1084, 1, 3, 4, 1648, 27, 326, 34, 26, 1, 6, 29, 3686, 3, 1027, 262, 4643, 19, 487, 24, 1, 4, 3123, 2200, 314, 10, 92, 8]| entity1p=26| entity2p=34),\n",
       " Training_sample(relation_idx=0| words_idx=[11, 62, 3, 1, 75, 1, 3753, 31, 1, 26, 1245, 1, 41, 264, 839, 892, 3394, 1, 13, 4, 634, 10, 198, 3, 1111, 73, 2544, 13, 3553, 10, 1351, 3, 1, 5, 1704, 8]| entity1p=14| entity2p=34),\n",
       " Training_sample(relation_idx=0| words_idx=[6, 4, 88, 503, 12, 1, 1611, 39, 293, 1, 21, 65, 20, 4, 2497, 183, 7, 21, 88, 1, 1632, 1, 49, 51, 244, 4, 280, 6, 4, 293, 3, 54, 4, 3684, 34, 476, 1, 46, 3150, 1, 5, 327, 1, 1, 93, 4360, 8]| entity1p=5| entity2p=42),\n",
       " Training_sample(relation_idx=0| words_idx=[7, 4, 322, 6, 239, 3, 1, 1, 16, 4, 2426, 6, 1, 5, 1, 8]| entity1p=6| entity2p=12),\n",
       " Training_sample(relation_idx=0| words_idx=[49, 6, 4, 63, 58, 1, 1588, 442, 19, 1, 3, 24, 1, 81, 1, 107, 28, 33, 757, 42, 1, 7, 26, 1, 3, 1, 1, 3, 5, 1, 1, 151, 6, 216, 5, 1489, 1, 3, 24, 1, 4, 58, 1, 1879, 2136, 1, 958, 42, 33, 1652, 1, 16, 4, 1107, 1, 85, 3391, 4895, 8]| entity1p=33| entity2p=29),\n",
       " Training_sample(relation_idx=0| words_idx=[707, 4, 365, 67, 1, 1, 4, 4206, 98, 4, 1, 1702, 6, 4, 208, 1, 296, 69, 15, 4, 75, 178, 48, 4, 1, 396, 630, 5, 4, 84, 386, 3206, 8]| entity1p=20| entity2p=29),\n",
       " Training_sample(relation_idx=0| words_idx=[271, 10, 927, 208, 1184, 3, 1, 25, 3, 477, 6, 4, 4704, 2605, 3699, 897, 540, 2732, 555, 10, 4, 449, 6, 1, 5, 1, 8]| entity1p=16| entity2p=25),\n",
       " Training_sample(relation_idx=0| words_idx=[121, 18, 7, 9, 1, 16, 4, 64, 291, 76, 4, 238, 3, 37, 121, 499, 42, 1224, 2127, 10, 1, 393, 3, 35, 37, 4, 84, 5, 309, 2487, 42, 33, 429, 10, 901, 261, 767, 8]| entity1p=26| entity2p=14),\n",
       " Training_sample(relation_idx=0| words_idx=[4, 3864, 25, 12, 1, 1, 911, 2293, 1, 1939, 7, 1, 1210, 6, 355, 3, 5, 668, 1, 1, 10, 1, 87, 5, 7, 446, 10, 33, 1, 79, 1, 8]| entity1p=14| entity2p=25),\n",
       " Training_sample(relation_idx=49| words_idx=[19, 53, 10, 740, 10, 4189, 3, 1531, 1, 1, 267, 164, 3, 1, 1, 3, 24, 22, 1, 7, 1024, 7, 9, 1, 3, 27, 59, 1, 21, 170, 3, 1093, 2625, 11, 1, 3, 1, 3, 1100, 45, 12, 14, 744, 9, 391, 2106, 8]| entity1p=1| entity2p=3),\n",
       " Training_sample(relation_idx=0| words_idx=[4532, 3, 4, 1598, 460, 6, 2138, 5, 1, 4026, 6, 1430, 51, 123, 4, 1, 1797, 7, 4, 1, 3, 1, 41, 196, 184, 6, 4, 460, 7, 373, 8]| entity1p=19| entity2p=11),\n",
       " Training_sample(relation_idx=29| words_idx=[88, 1, 3, 923, 1, 1, 19, 4, 166, 6, 174, 3, 1867, 3, 16, 325, 1, 1, 5, 1, 19, 4, 1, 3, 31, 1, 4, 995, 1722, 1, 5, 356, 12, 1, 1, 32, 4, 745, 1662, 11, 4, 158, 1, 1, 1, 1109, 8]| entity1p=19| entity2p=22),\n",
       " Training_sample(relation_idx=48| words_idx=[44, 6, 4, 942, 1, 6, 4, 75, 178, 1, 4548, 1, 6, 4, 2866, 6, 61, 1, 4, 2837, 6, 4443, 225, 5, 1294, 3, 4, 1, 5, 1, 6, 2815, 3, 4, 879, 6, 2931, 2545, 1, 18, 12, 4, 1165, 6, 61, 42, 891, 38, 292, 4, 100, 10, 4961, 4, 2391, 6, 1, 8]| entity1p=44| entity2p=31),\n",
       " Training_sample(relation_idx=0| words_idx=[201, 1229, 814, 30, 953, 274, 3, 399, 3, 253, 26, 201, 1229, 7, 4, 661, 13, 1, 844, 41, 1, 4, 1, 1, 30, 1, 11, 156, 3, 1, 26, 1194, 17, 4, 3653, 865, 7, 97, 3, 1310, 1, 10, 1, 4, 1, 6, 1956, 1, 3, 1, 9, 1, 239, 15, 1, 12, 18, 1, 7, 1, 17, 4, 220, 8]| entity1p=54| entity2p=27),\n",
       " Training_sample(relation_idx=0| words_idx=[26, 1, 342, 6, 712, 1, 937, 10, 33, 1868, 13, 259, 4004, 3, 1, 3613, 6, 1, 1, 1, 4, 1045, 194, 6, 712, 1566, 1, 1521, 30, 1, 1, 3, 90, 1, 3, 1029, 1879, 3, 1542, 1, 3, 1, 3, 1, 3, 2300, 1338, 3, 1, 1, 3, 90, 1, 3, 325, 1, 3, 1, 1, 3, 90, 1, 5, 1, 1, 8]| entity1p=41| entity2p=43),\n",
       " Training_sample(relation_idx=0| words_idx=[5, 48, 1048, 1, 790, 2207, 3, 1, 3, 2966, 1, 3903, 1, 16, 159, 1, 10, 1, 4, 3347, 7, 4, 1212, 1, 26, 1, 568, 3, 824, 17, 1, 660, 1, 106, 1417, 1, 108, 1, 16, 9, 1, 2043, 8, 1]| entity1p=2| entity2p=7),\n",
       " Training_sample(relation_idx=0| words_idx=[3463, 3, 87, 32, 49, 1, 1, 6, 1, 4922, 436, 30, 1, 1, 2825, 15, 1, 3, 943, 3, 1, 3, 1, 5, 754, 2691, 45, 29, 548, 5, 2003, 1, 5, 1, 1, 2825, 15, 1599, 3, 2452, 3, 1, 3, 1, 3, 1, 3, 2996, 3, 4979, 3, 4029, 5, 754, 2691, 45, 1599, 3, 2065, 823, 853, 3, 1, 4920, 5, 1806, 1, 8]| entity1p=56| entity2p=30),\n",
       " Training_sample(relation_idx=0| words_idx=[4, 1, 179, 18, 211, 7, 2580, 3, 1622, 3, 5, 28, 1426, 93, 1909, 39, 78, 11, 667, 1, 1, 3, 24, 1787, 443, 7, 4, 428, 402, 148, 55, 78, 5, 18, 891, 10, 3506, 251, 39, 78, 3, 2537, 7, 4, 1, 1, 7, 132, 1111, 73, 1, 21, 601, 13, 1508, 4, 398, 679, 8]| entity1p=29| entity2p=6),\n",
       " Training_sample(relation_idx=48| words_idx=[7, 584, 70, 22, 9, 4520, 5, 238, 414, 7, 4, 1, 2902, 2917, 238, 7, 1, 1, 1, 77, 3, 1011, 3, 5, 67, 9, 1, 7, 1, 3, 1531, 3, 11, 1, 3, 37, 4341, 1, 516, 7, 1, 4009, 1307, 46, 1, 2453, 8]| entity1p=30| entity2p=28),\n",
       " Training_sample(relation_idx=48| words_idx=[227, 1, 3, 1, 3, 1, 3, 83, 3091, 4, 207, 372, 6, 4, 4118, 102, 2232, 3, 1782, 5, 1, 3, 305, 160, 17, 396, 1, 17, 4, 4975, 6, 4, 2002, 3, 4, 1, 3, 542, 1, 126, 8]| entity1p=14| entity2p=35),\n",
       " Training_sample(relation_idx=0| words_idx=[4, 526, 721, 7, 4, 321, 333, 18, 12, 110, 260, 2680, 593, 1, 4, 1, 5, 4, 1, 1, 31, 2652, 10, 2199, 4, 1, 15, 1, 1, 1, 5, 527, 10, 432, 4, 1, 3, 24, 32, 95, 1093, 1, 5, 24, 31, 59, 4702, 10, 1, 4, 47, 2570, 8]| entity1p=15| entity2p=50),\n",
       " Training_sample(relation_idx=0| words_idx=[20, 70, 437, 58, 1863, 3, 1937, 40, 194, 7, 52, 5, 551, 3, 70, 223, 1, 1, 102, 4, 1, 3, 3072, 41, 4, 294, 142, 1410, 70, 547, 34, 5, 1, 41, 4, 374, 1, 821, 3, 1, 8, 1]| entity1p=10| entity2p=39),\n",
       " Training_sample(relation_idx=48| words_idx=[1, 1, 3, 4, 3432, 24, 690, 5, 150, 1852, 4, 49, 1, 846, 7, 1007, 3, 284, 944, 2484, 1, 4514, 846, 343, 231, 8]| entity1p=24| entity2p=15),\n",
       " Training_sample(relation_idx=0| words_idx=[1, 3, 1758, 3, 684, 3, 951, 3, 2501, 3, 4843, 3, 1, 3, 2308, 3, 1, 5, 1, 32, 1, 1, 15, 4, 1, 1288, 6, 1, 1, 1, 1, 3, 91, 3, 1, 3, 698, 3, 5, 1, 14, 237, 187, 5, 1, 8]| entity1p=10| entity2p=18),\n",
       " Training_sample(relation_idx=0| words_idx=[4, 127, 1, 3, 1714, 10, 4887, 4, 403, 11, 36, 52, 1, 1, 28, 1427, 11, 58, 73, 9, 78, 7, 388, 423, 1, 3, 27, 1226, 391, 10, 1, 36, 1, 1, 50, 2011, 69, 36, 1, 1625, 1, 8]| entity1p=11| entity2p=2),\n",
       " Training_sample(relation_idx=0| words_idx=[39, 960, 6, 1220, 18, 20, 47, 20, 2452, 1, 3, 1, 25, 4747, 1, 1, 3, 9, 359, 6, 207, 372, 17, 1, 8, 1]| entity1p=6| entity2p=23),\n",
       " Training_sample(relation_idx=0| words_idx=[266, 18, 930, 10, 245, 2850, 5, 1, 13, 364, 416, 17, 4, 2512, 119, 7, 1006, 3, 5, 150, 3077, 13, 364, 396, 17, 1167, 1145, 7, 186, 1, 3, 1, 3, 271, 10, 9, 506, 13, 4, 1222, 651, 6, 4, 939, 1621, 4212, 8]| entity1p=7| entity2p=43),\n",
       " Training_sample(relation_idx=0| words_idx=[3204, 155, 3204, 370, 1, 1, 1, 2662, 1257, 1, 10, 1, 6, 4, 4287, 8]| entity1p=11| entity2p=9),\n",
       " Training_sample(relation_idx=0| words_idx=[1, 173, 1, 2592, 1, 1143, 173, 424, 1, 2679, 1, 2592, 7, 4, 308, 321, 1633, 1638, 1, 76, 79, 4, 1143, 11, 4, 99, 8]| entity1p=25| entity2p=14),\n",
       " Training_sample(relation_idx=0| words_idx=[23, 27, 67, 668, 493, 10, 3317, 3, 355, 5, 61, 3, 5, 7, 26, 650, 16, 49, 538, 2839, 39, 147, 3, 23, 25, 23, 22, 2597, 10, 2817, 9, 1, 1, 7, 61, 20, 167, 20, 4, 109, 87, 1, 8]| entity1p=6| entity2p=8),\n",
       " Training_sample(relation_idx=48| words_idx=[4, 515, 1, 5, 153, 4, 1, 1, 1, 6, 1118, 3, 9, 754, 1, 24, 315, 727, 62, 217, 13, 259, 3, 5, 1, 1, 3, 9, 92, 1, 3, 31, 59, 1, 5, 1, 2804, 15, 9, 1, 6, 4493, 3, 9, 1, 6, 465, 1, 50, 4, 1, 6, 12, 63, 579, 6, 2620, 3, 4, 52, 526, 826, 444, 8]| entity1p=59| entity2p=28),\n",
       " Training_sample(relation_idx=24| words_idx=[1, 123, 146, 18, 4, 3500, 6, 148, 30, 4, 1, 3060, 11, 1, 1, 1, 3586, 3575, 627, 3, 60, 1, 1, 15, 3318, 1, 3, 192, 55, 374, 3, 1, 4, 1765, 5, 952, 3060, 10, 4, 1, 3, 1, 970, 7, 1975, 3, 1, 81, 11, 9, 29, 4223, 8]| entity1p=39| entity2p=7),\n",
       " Training_sample(relation_idx=0| words_idx=[1, 15, 60, 1, 136, 4, 1, 407, 31, 1, 26, 1289, 19, 4, 714, 1, 7, 46, 1508, 1413, 11, 4, 927, 2207, 1, 8]| entity1p=6| entity2p=24),\n",
       " Training_sample(relation_idx=0| words_idx=[880, 4317, 1, 463, 908, 1, 414, 6, 1, 6, 4, 881, 370, 3, 1, 414, 6, 1, 6, 4, 1, 3, 3487, 4065, 414, 6, 86, 352, 6, 4, 29, 1, 370, 5, 447, 1956, 414, 6, 1, 6, 4, 1, 8]| entity1p=20| entity2p=14),\n",
       " Training_sample(relation_idx=0| words_idx=[39, 1107, 4691, 36, 1, 2014, 18, 9, 1, 11, 93, 6, 4, 176, 5, 3020, 1270, 31, 779, 10, 4, 77, 3, 16, 1, 1, 15, 4, 1025, 1230, 1436, 3, 1, 1, 1065, 19, 1, 1, 1, 3, 2010, 2046, 1336, 1, 15, 575, 1, 3, 1218, 1037, 15, 4, 128, 1, 3, 5, 1, 1751, 5, 1764, 1336, 19, 1, 1, 5, 4, 1, 1, 1, 1436, 8]| entity1p=40| entity2p=36),\n",
       " Training_sample(relation_idx=0| words_idx=[1914, 31, 1777, 1, 11, 1, 10, 900, 1, 7, 171, 1766, 5, 857, 3, 5, 28, 27, 549, 1099, 13, 1, 1128, 10, 339, 16, 3247, 323, 1, 8]| entity1p=13| entity2p=11),\n",
       " Training_sample(relation_idx=0| words_idx=[38, 564, 40, 1822, 3, 2718, 4, 2517, 494, 1569, 3, 22, 1, 26, 1, 10, 1, 5, 289, 516, 8, 1]| entity1p=18| entity2p=16),\n",
       " Training_sample(relation_idx=0| words_idx=[70, 18, 137, 15, 40, 222, 3, 535, 1, 1, 14, 40, 680, 3, 1, 1, 5, 1534, 1, 14, 40, 154, 30, 1, 3, 657, 3, 5, 941, 1, 5, 1, 3, 941, 3, 5, 1, 1, 14, 5, 40, 279, 154, 30, 2345, 3, 1, 3, 3190, 3, 468, 3, 1, 3, 5, 1, 8]| entity1p=44| entity2p=31),\n",
       " Training_sample(relation_idx=0| words_idx=[715, 1, 6, 4734, 3, 1, 5, 494, 8]| entity1p=3| entity2p=7),\n",
       " Training_sample(relation_idx=0| words_idx=[54, 26, 47, 2798, 1, 69, 1342, 7, 1, 3, 2338, 1, 23, 27, 4, 1, 6, 26, 1, 1, 556, 8]| entity1p=10| entity2p=2),\n",
       " Training_sample(relation_idx=0| words_idx=[336, 187, 6, 1, 1, 2553, 1, 1, 5, 608, 1, 1, 1, 3589, 8]| entity1p=13| entity2p=5),\n",
       " Training_sample(relation_idx=0| words_idx=[55, 78, 3, 4, 1, 201, 263, 7, 551, 1, 3275, 1, 10, 512, 20, 1, 1, 11, 44, 1194, 3, 5, 2452, 1711, 27, 604, 4, 1, 7, 4, 1, 1178, 6, 148, 203, 4, 344, 1349, 3, 1017, 4, 1, 1880, 6, 4, 1450, 120, 1, 8]| entity1p=27| entity2p=8),\n",
       " Training_sample(relation_idx=48| words_idx=[420, 1, 3, 1, 3, 186, 1, 5, 1, 31, 762, 46, 1, 3956, 1, 135, 1505, 3, 20, 31, 246, 1064, 45, 1, 3, 138, 1, 3, 1, 3, 1, 5, 1, 8]| entity1p=20| entity2p=23),\n",
       " Training_sample(relation_idx=0| words_idx=[5, 3, 117, 1, 7, 68, 45, 1707, 3, 97, 3, 1438, 5, 1048, 31, 1, 524, 4973, 11, 46, 1, 3, 4, 52, 384, 27, 2033, 10, 2153, 36, 270, 1, 3, 589, 110, 563, 1, 10, 2341, 81, 8]| entity1p=7| entity2p=23),\n",
       " Training_sample(relation_idx=0| words_idx=[4, 60, 576, 5, 191, 1530, 55, 253, 3, 41, 4, 786, 1, 7, 1, 3, 72, 3, 1, 4, 1, 6, 26, 821, 8]| entity1p=12| entity2p=14),\n",
       " Training_sample(relation_idx=0| words_idx=[9, 985, 358, 13, 287, 41, 4, 1, 83, 1, 6, 1, 436, 986, 4, 467, 6, 348, 9, 74, 1167, 1275, 3, 4124, 1179, 3, 340, 4, 1, 1, 85, 4729, 833, 1734, 8]| entity1p=7| entity2p=28),\n",
       " Training_sample(relation_idx=49| words_idx=[652, 53, 27, 703, 4, 64, 68, 7, 2699, 10, 627, 11, 9, 1, 6, 1, 534, 10, 280, 131, 387, 1, 261, 767, 238, 48, 36, 241, 1759, 3, 462, 1466, 9, 1297, 1, 513, 98, 197, 5, 97, 8]| entity1p=1| entity2p=37),\n",
       " Training_sample(relation_idx=36| words_idx=[4, 130, 1419, 1, 129, 162, 3, 1, 3, 24, 27, 1, 195, 4784, 4472, 7, 241, 62, 3, 22, 1, 41, 1, 10, 3082, 79, 534, 8]| entity1p=7| entity2p=1)]"
      ]
     },
     "execution_count": 11,
     "metadata": {},
     "output_type": "execute_result"
    }
   ],
   "source": [
    "list(a)"
   ]
  },
  {
   "cell_type": "code",
   "execution_count": null,
   "metadata": {
    "collapsed": true
   },
   "outputs": [],
   "source": []
  }
 ],
 "metadata": {
  "kernelspec": {
   "display_name": "Python 2",
   "language": "python",
   "name": "python2"
  },
  "language_info": {
   "codemirror_mode": {
    "name": "ipython",
    "version": 3
   },
   "file_extension": ".py",
   "mimetype": "text/x-python",
   "name": "python",
   "nbconvert_exporter": "python",
   "pygments_lexer": "ipython3",
   "version": "3.5.2"
  }
 },
 "nbformat": 4,
 "nbformat_minor": 2
}
